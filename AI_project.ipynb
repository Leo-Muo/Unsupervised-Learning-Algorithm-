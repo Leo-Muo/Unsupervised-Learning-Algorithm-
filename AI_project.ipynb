{
  "nbformat": 4,
  "nbformat_minor": 0,
  "metadata": {
    "colab": {
      "provenance": [],
      "collapsed_sections": [
        "Dwcsg2469nyR",
        "w5pIXJ_Uwfox",
        "tKJIW5S1_O1h"
      ],
      "toc_visible": true,
      "include_colab_link": true
    },
    "kernelspec": {
      "name": "python3",
      "display_name": "Python 3"
    },
    "language_info": {
      "name": "python"
    }
  },
  "cells": [
    {
      "cell_type": "markdown",
      "metadata": {
        "id": "view-in-github",
        "colab_type": "text"
      },
      "source": [
        "<a href=\"https://colab.research.google.com/github/Leo-Muo/Unsupervised-Learning-Algorithm-/blob/main/AI_project.ipynb\" target=\"_parent\"><img src=\"https://colab.research.google.com/assets/colab-badge.svg\" alt=\"Open In Colab\"/></a>"
      ]
    },
    {
      "cell_type": "markdown",
      "source": [
        "# Setup"
      ],
      "metadata": {
        "id": "Dwcsg2469nyR"
      }
    },
    {
      "cell_type": "code",
      "execution_count": null,
      "metadata": {
        "id": "IGon5LqKfIXZ"
      },
      "outputs": [],
      "source": [
        "import numpy as np\n",
        "import matplotlib.pyplot as plt\n",
        "import pandas as pd\n",
        "import random\n",
        "from scipy.stats import multivariate_normal"
      ]
    },
    {
      "cell_type": "code",
      "source": [
        "from google.colab import files\n",
        "uploaded = files.upload()\n",
        "crop = pd.read_csv(\"Crop_recommendation.csv\")\n",
        "crop.drop('label', inplace=True, axis=1)\n",
        "crop_data= np.array(crop)"
      ],
      "metadata": {
        "id": "gP-GKEgf2unS",
        "colab": {
          "resources": {
            "http://localhost:8080/nbextensions/google.colab/files.js": {
              "data": "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",
              "ok": true,
              "headers": [
                [
                  "content-type",
                  "application/javascript"
                ]
              ],
              "status": 200,
              "status_text": ""
            }
          },
          "base_uri": "https://localhost:8080/",
          "height": 73
        },
        "outputId": "2ca4df44-0603-4273-9958-ff7bb0fad752"
      },
      "execution_count": null,
      "outputs": [
        {
          "output_type": "display_data",
          "data": {
            "text/plain": [
              "<IPython.core.display.HTML object>"
            ],
            "text/html": [
              "\n",
              "     <input type=\"file\" id=\"files-934481c1-051c-4480-9d66-b776303cda30\" name=\"files[]\" multiple disabled\n",
              "        style=\"border:none\" />\n",
              "     <output id=\"result-934481c1-051c-4480-9d66-b776303cda30\">\n",
              "      Upload widget is only available when the cell has been executed in the\n",
              "      current browser session. Please rerun this cell to enable.\n",
              "      </output>\n",
              "      <script src=\"/nbextensions/google.colab/files.js\"></script> "
            ]
          },
          "metadata": {}
        },
        {
          "output_type": "stream",
          "name": "stdout",
          "text": [
            "Saving Crop_recommendation.csv to Crop_recommendation (1).csv\n"
          ]
        }
      ]
    },
    {
      "cell_type": "markdown",
      "source": [
        "# implemented silhouette"
      ],
      "metadata": {
        "id": "v0BxClOVirVM"
      }
    },
    {
      "cell_type": "code",
      "source": [
        "def inertia(list_data, centroids):\n",
        "    sum=0\n",
        "    for i in range(len(list_data)):\n",
        "        for j in list_data[i]:\n",
        "            sum+= distance(j, centroids[i])\n",
        "    return sum "
      ],
      "metadata": {
        "id": "7ZtyEJ4crkUB"
      },
      "execution_count": null,
      "outputs": []
    },
    {
      "cell_type": "code",
      "source": [
        "def distance(a:list, b:list):\n",
        "    sum = 0\n",
        "    for i in range(len(a)):\n",
        "        sum += (a[i]-b[i])*(a[i]-b[i])\n",
        "    return sum**0.5 "
      ],
      "metadata": {
        "id": "VPEElXED2ZQ3"
      },
      "execution_count": null,
      "outputs": []
    },
    {
      "cell_type": "code",
      "source": [
        "def first_centroids_assignation(points:list, nb_clusters:int):\n",
        "    return [points[i] for i in range(nb_clusters)]"
      ],
      "metadata": {
        "id": "lUt4VYresYvi"
      },
      "execution_count": null,
      "outputs": []
    },
    {
      "cell_type": "code",
      "source": [
        "def mean(cluster:list):\n",
        "    nb_dimension = len(cluster[0])\n",
        "    number_of_point = len(cluster)\n",
        "    center=[]\n",
        "\n",
        "    # for each dimension\n",
        "    for dim in range(nb_dimension):\n",
        "        sum = 0\n",
        "        # for each point\n",
        "        for point in cluster:\n",
        "            sum += point[dim]\n",
        "\n",
        "        center.append(sum / number_of_point)\n",
        "    return center"
      ],
      "metadata": {
        "id": "iER6BCqDszLi"
      },
      "execution_count": null,
      "outputs": []
    },
    {
      "cell_type": "code",
      "source": [
        "def silhouette(dataset):\n",
        "    final = []\n",
        "    leng = len(dataset)\n",
        "    sil = []\n",
        "\n",
        "    #for each cluster \n",
        "    for cluster in range(leng):\n",
        "        sol = []\n",
        "        lon = len(dataset[cluster])\n",
        "        other_cluster=[]\n",
        "        \n",
        "        for num in range(leng):\n",
        "            if(num != cluster):\n",
        "                other_cluster.append(dataset[num])\n",
        "        \n",
        "        silhouette_coef = 0\n",
        "        for point in dataset[cluster]:\n",
        "            a, b = 0, -1\n",
        "            # we calculate a \n",
        "            for i in dataset[cluster]:\n",
        "                a += distance(point, i)\n",
        "            if(lon != 1):\n",
        "                a /= lon-1\n",
        "\n",
        "            # then we calculate b\n",
        "            for cl in other_cluster:\n",
        "                total = 0\n",
        "                for other_point in cl:\n",
        "                    total += distance(point, other_point)\n",
        "                b = min(b, total/len(cl)) if b != -1 else total/len(cl)\n",
        "            \n",
        "            if(max(a,b) !=0):\n",
        "                sol.append((b-a)/max(b,a))    \n",
        "                silhouette_coef += (b-a)/max(b,a)\n",
        "            else:\n",
        "                silhouette_coef+=b-a\n",
        "        if(lon !=1):\n",
        "            sil.append(sol)            \n",
        "            final.append(silhouette_coef/(lon-1))\n",
        "        else:\n",
        "            final.append(silhouette_coef)\n",
        "    return(final,sil)"
      ],
      "metadata": {
        "id": "05jcj_8M1jjn"
      },
      "execution_count": null,
      "outputs": []
    },
    {
      "cell_type": "code",
      "source": [
        "def silhouette_graph(values_list,final):\n",
        "    color_array = [\"red\", \"b\", \"g\", \"y\",\"m\",\"c\"]\n",
        "    silhouette_avg = 0\n",
        "    for i in final:\n",
        "        silhouette_avg+=i\n",
        "    silhouette_avg/=len(final)    \n",
        "    ax = plt.subplot()\n",
        "    ax.set_xlim([-0.1, 1])\n",
        "    prog =0\n",
        "    g_len=0\n",
        "    for i in values_list:  \n",
        "        for y in i:\n",
        "            g_len+=1\n",
        "    ax.set_ylim([0,g_len + (len(values_list)+1)*10])    \n",
        "    y_lower = 10\n",
        "    for cluster in values_list:\n",
        "        cluster.sort()\n",
        "        y_upper = y_lower + len(cluster)    \n",
        "        color = color_array[prog]\n",
        "        ax.fill_betweenx(np.arange(y_lower,y_upper), 0, cluster, facecolor = color, edgecolor = color, alpha = 0.7)\n",
        "        ax.text(-0.05, y_lower +0.5*len(cluster), str(prog))\n",
        "        y_lower = y_upper +10\n",
        "        prog+=1\n",
        "    ax.axvline(x=silhouette_avg, color=\"k\", linestyle=\"--\")\n",
        "    ax.set_yticks([])\n",
        "    ax.set_xticks([-0.1, 0, 0.2, 0.4, 0.6, 0.8, 1])\n",
        "    plt.show()"
      ],
      "metadata": {
        "id": "dZgDSdPzsDIW"
      },
      "execution_count": null,
      "outputs": []
    },
    {
      "cell_type": "code",
      "source": [
        "def inertia_graph(max_cluster,cropdata):\n",
        "  n_clusters=np.arange(3, max_cluster+1)\n",
        "  inrt=[]\n",
        "  for n in n_clusters:\n",
        "      model = GMM(n,8)\n",
        "      model.fit(cropdata)\n",
        "      prer = model.predict(cropdata)\n",
        "      fr = pd.DataFrame(cropdata)\n",
        "      fr['cluster'] = prer\n",
        "      fr.columns = ['N', 'P', 'K', 'temperature', 'humidity', 'ph', 'rainfall', 'cluster']\n",
        "      result = cluster_valuesGMM(fr)\n",
        "      centroids = [mean(result[i]) for i in range(n)]\n",
        "      inrt.append(inertia(result, centroids))\n",
        "    \n",
        "  plt.figure(figsize=(8,8))\n",
        "  plt.plot(n_clusters, inrt, 'bo-', color='black')\n",
        "  plt.xlabel('k')\n",
        "  plt.ylabel('inertia Score')\n",
        "  plt.show()"
      ],
      "metadata": {
        "id": "49En0PaETLVN"
      },
      "execution_count": null,
      "outputs": []
    },
    {
      "cell_type": "markdown",
      "source": [
        "# My implementation of GMM"
      ],
      "metadata": {
        "id": "6bD5CvlvpsfC"
      }
    },
    {
      "cell_type": "code",
      "source": [
        "class GMM:\n",
        "    def __init__(self, k, max_iter=5):\n",
        "        self.k = k\n",
        "        self.max_iter = int(max_iter)\n",
        "\n",
        "    def initialize(self, X):\n",
        "        self.shape = X.shape\n",
        "        self.n, self.m = self.shape\n",
        "\n",
        "        self.phi = np.full(shape=self.k, fill_value=1/self.k)\n",
        "        self.weights = np.full( shape=self.shape, fill_value=1/self.k)\n",
        "        \n",
        "        random_row = np.random.randint(low=0, high=self.n, size=self.k)\n",
        "        self.mu = [  X[row_index,:] for row_index in random_row ]\n",
        "        self.sigma = [ np.cov(X.T) for _ in range(self.k) ]\n",
        "\n",
        "    def e_step(self, X):\n",
        "        # E-Step: update weights and phi holding mu and sigma constant\n",
        "        self.weights = self.predict_proba(X)\n",
        "        self.phi = self.weights.mean(axis=0)\n",
        "    \n",
        "    def m_step(self, X):\n",
        "        # M-Step: update mu and sigma holding phi and weights constant\n",
        "        for i in range(self.k):\n",
        "            weight = self.weights[:, [i]]\n",
        "            total_weight = weight.sum()\n",
        "            self.mu[i] = (X * weight).sum(axis=0) / total_weight\n",
        "            self.sigma[i] = np.cov(X.T, \n",
        "                aweights=(weight/total_weight).flatten(),bias=True)\n",
        "\n",
        "    def fit(self, X):\n",
        "        self.initialize(X)\n",
        "        for iteration in range(self.max_iter):\n",
        "            self.e_step(X)\n",
        "            self.m_step(X)\n",
        "            \n",
        "    def predict_proba(self, X):\n",
        "        likelihood = np.zeros( (self.n, self.k) )\n",
        "        for i in range(self.k):\n",
        "            distribution = multivariate_normal(mean=self.mu[i],cov=self.sigma[i])\n",
        "            likelihood[:,i] = distribution.pdf(X)\n",
        "        \n",
        "        numerator = likelihood * self.phi\n",
        "        denominator = numerator.sum(axis=1)[:, np.newaxis]\n",
        "        weights = numerator / denominator\n",
        "        return weights\n",
        "    \n",
        "    def predict(self, X):\n",
        "        weights = self.predict_proba(X)\n",
        "        return np.argmax(weights, axis=1)"
      ],
      "metadata": {
        "id": "2YEyp__Fptn4"
      },
      "execution_count": null,
      "outputs": []
    },
    {
      "cell_type": "markdown",
      "source": [
        "# Implementations"
      ],
      "metadata": {
        "id": "iIeYmwrx55gq"
      }
    },
    {
      "cell_type": "code",
      "source": [
        "def cluster_scatter(dataset,cltr):\n",
        "  color=['blue','green','cyan', 'black', 'red','yellow','pink']\n",
        "  for k in range(0,cltr):\n",
        "      dta = dataset[dataset[\"cluster\"]==k]\n",
        "      plt.scatter(dta['ph'],dta['rainfall'],c=color[k])\n",
        "  plt.show()"
      ],
      "metadata": {
        "id": "VGR9HEgdy3YS"
      },
      "execution_count": null,
      "outputs": []
    },
    {
      "cell_type": "code",
      "source": [
        "def cluster_valuesGMM(dataset):\n",
        "  clusters_size = len(np.array(dataset.cluster.unique()))\n",
        "  data=[]\n",
        "  for k in range(0,clusters_size):\n",
        "      temp_data = dataset[dataset[\"cluster\"]==k]\n",
        "      temp_data = np.array(temp_data)\n",
        "      data.append(temp_data)\n",
        "  return np.array(data)"
      ],
      "metadata": {
        "id": "SPyagDcsJtnk"
      },
      "execution_count": null,
      "outputs": []
    },
    {
      "cell_type": "code",
      "source": [
        "crop_data.shape"
      ],
      "metadata": {
        "colab": {
          "base_uri": "https://localhost:8080/"
        },
        "id": "-CEyBNGGZZ2G",
        "outputId": "a3094d2d-f2d7-47eb-a7a6-8f90f8970e36"
      },
      "execution_count": null,
      "outputs": [
        {
          "output_type": "execute_result",
          "data": {
            "text/plain": [
              "(2200, 7)"
            ]
          },
          "metadata": {},
          "execution_count": 53
        }
      ]
    },
    {
      "cell_type": "code",
      "source": [
        "cltr = 5\n",
        "inertia_graph(cltr,crop_data)\n",
        "\n",
        "model = GMM(cltr,8)\n",
        "model.fit(crop_data)\n",
        "cluster_column = model.predict(crop_data)\n",
        "\n",
        "fr = pd.DataFrame(crop_data)\n",
        "fr.columns = ['N', 'P', 'K', 'temperature', 'humidity', 'ph', 'rainfall']\n",
        "fr['cluster'] = cluster_column\n",
        "\n",
        "cluster_scatter(fr,cltr)\n",
        "\n",
        "result = cluster_valuesGMM(fr)\n",
        "\n",
        "centroids = [mean(result[i]) for i in range(cltr)]\n",
        "ine = inertia(result, centroids)\n",
        "print(\"inertia: \", ine)\n",
        "\n",
        "\n",
        "sl,f = silhouette(result)\n",
        "\n",
        "print(f\"Average of my_list is {np.mean(sl)}\\n\")\n",
        "\n",
        "print(\"Silhouette coeficients :\")\n",
        "for index,value in enumerate(sl):\n",
        "        print(f'\\tcluster {index} : {value}')\n",
        "\n",
        "silhouette_graph(f,sl)"
      ],
      "metadata": {
        "colab": {
          "base_uri": "https://localhost:8080/",
          "height": 1000
        },
        "id": "pasQH-L3BT5U",
        "outputId": "7f04c1f6-0eec-4f69-ac4a-11fe248b085b"
      },
      "execution_count": null,
      "outputs": [
        {
          "output_type": "stream",
          "name": "stderr",
          "text": [
            "/usr/local/lib/python3.7/dist-packages/ipykernel_launcher.py:8: VisibleDeprecationWarning: Creating an ndarray from ragged nested sequences (which is a list-or-tuple of lists-or-tuples-or ndarrays with different lengths or shapes) is deprecated. If you meant to do this, you must specify 'dtype=object' when creating the ndarray.\n",
            "  \n"
          ]
        },
        {
          "output_type": "display_data",
          "data": {
            "text/plain": [
              "<Figure size 576x576 with 1 Axes>"
            ],
            "image/png": "[encoded data removed]"
          },
          "metadata": {
            "needs_background": "light"
          }
        },
        {
          "output_type": "display_data",
          "data": {
            "text/plain": [
              "<Figure size 432x288 with 1 Axes>"
            ],
            "image/png": "[encoded data removed]"
          },
          "metadata": {
            "needs_background": "light"
          }
        },
        {
          "output_type": "stream",
          "name": "stderr",
          "text": [
            "/usr/local/lib/python3.7/dist-packages/ipykernel_launcher.py:8: VisibleDeprecationWarning: Creating an ndarray from ragged nested sequences (which is a list-or-tuple of lists-or-tuples-or ndarrays with different lengths or shapes) is deprecated. If you meant to do this, you must specify 'dtype=object' when creating the ndarray.\n",
            "  \n"
          ]
        },
        {
          "output_type": "stream",
          "name": "stdout",
          "text": [
            "inertia:  142369.19246771449\n",
            "Average of my_list is 0.15852526564001912\n",
            "\n",
            "Silhouette coeficients :\n",
            "\tcluster 0 : 0.12336656002066881\n",
            "\tcluster 1 : -0.03543796456688319\n",
            "\tcluster 2 : 0.3761504248438377\n",
            "\tcluster 3 : 0.07784199587372923\n",
            "\tcluster 4 : 0.250705312028743\n"
          ]
        },
        {
          "output_type": "display_data",
          "data": {
            "text/plain": [
              "<Figure size 432x288 with 1 Axes>"
            ],
            "image/png": "[encoded data removed]"
          },
          "metadata": {
            "needs_background": "light"
          }
        }
      ]
    },
    {
      "cell_type": "code",
      "source": [
        "n_clusters=np.arange(3, 11)\n",
        "inrt=[]\n",
        "for n in n_clusters:\n",
        "    model = GMM(n,8)\n",
        "    model.fit(crop_data)\n",
        "    prer = model.predict(crop_data)\n",
        "    fr = pd.DataFrame(crop_data)\n",
        "    fr['cluster'] = prer\n",
        "    fr.columns = ['N', 'P', 'K', 'temperature', 'humidity', 'ph', 'rainfall', 'cluster']\n",
        "    result = cluster_valuesGMM(fr)\n",
        "    centroids = [mean(result[i]) for i in range(n)]\n",
        "    inrt.append(inertia(result, centroids))\n",
        "    \n",
        "plt.figure(figsize=(8,8))\n",
        "plt.plot(n_clusters, inrt, 'bo-', color='black')\n",
        "plt.xlabel('k')\n",
        "plt.ylabel('inertia Score')\n",
        "plt.show()"
      ],
      "metadata": {
        "colab": {
          "base_uri": "https://localhost:8080/",
          "height": 552
        },
        "id": "aIK63JgmDMju",
        "outputId": "c0df3cd3-fc4e-439c-e5da-5f306dc40e0d"
      },
      "execution_count": null,
      "outputs": [
        {
          "output_type": "stream",
          "name": "stderr",
          "text": [
            "/usr/local/lib/python3.7/dist-packages/ipykernel_launcher.py:8: VisibleDeprecationWarning: Creating an ndarray from ragged nested sequences (which is a list-or-tuple of lists-or-tuples-or ndarrays with different lengths or shapes) is deprecated. If you meant to do this, you must specify 'dtype=object' when creating the ndarray.\n",
            "  \n"
          ]
        },
        {
          "output_type": "display_data",
          "data": {
            "text/plain": [
              "<Figure size 576x576 with 1 Axes>"
            ],
            "image/png": "[encoded data removed]"
          },
          "metadata": {
            "needs_background": "light"
          }
        }
      ]
    }
  ]
}